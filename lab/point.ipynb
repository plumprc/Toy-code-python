{
 "cells": [
  {
   "cell_type": "code",
   "execution_count": 1,
   "metadata": {},
   "outputs": [],
   "source": [
    "import numpy as np\n",
    "from matplotlib import pyplot as plt"
   ]
  },
  {
   "cell_type": "code",
   "execution_count": 2,
   "metadata": {},
   "outputs": [],
   "source": [
    "def power_chain(A, x, t):\n",
    "    points = []\n",
    "    for i in range(t):\n",
    "        points.append([x[0], x[1]])\n",
    "        x = A.dot(x)\n",
    "    return points"
   ]
  },
  {
   "cell_type": "code",
   "execution_count": 11,
   "metadata": {},
   "outputs": [
    {
     "data": {
      "image/png": "[encoded data removed]",
      "text/plain": [
       "<Figure size 432x288 with 1 Axes>"
      ]
     },
     "metadata": {
      "needs_background": "light"
     },
     "output_type": "display_data"
    }
   ],
   "source": [
    "A = np.array([[0,-1],[1,0]])\n",
    "\n",
    "# 设置画布\n",
    "fig = plt.figure()\n",
    "plt.xlim(-2, 2)\n",
    "plt.ylim(-2, 2)\n",
    "\n",
    "points = power_chain(A, np.array([1, 1]), 5)\n",
    "for p in points:\n",
    "    # plt.plot(p.x, p.y, \"o\")\n",
    "    plt.plot(p[0], p[1])\n",
    "    \n",
    "# 画箭头\n",
    "for i in range(len(points) - 1):\n",
    "    dx = points[i+1][0] - points[i][0]\n",
    "    dy = points[i+1][1] - points[i][1]\n",
    "    plt.quiver(points[i][0], points[i][1], dx, dy, angles='xy', scale=1.03, scale_units='xy', width=0.008, color='r')\n",
    "    \n",
    "points = power_chain(A, np.array([1.8, 1]), 5)\n",
    "for p in points:\n",
    "    # plt.plot(p.x, p.y, \"o\")\n",
    "    plt.plot(p[0], p[1])\n",
    "    \n",
    "# 画箭头\n",
    "for i in range(len(points) - 1):\n",
    "    dx = points[i+1][0] - points[i][0]\n",
    "    dy = points[i+1][1] - points[i][1]\n",
    "    plt.quiver(points[i][0], points[i][1], dx, dy, angles='xy', scale=1.03, scale_units='xy', width=0.008, color='r')    \n",
    "    \n",
    "plt.grid()\n",
    "# plt.savefig('track4.png')\n",
    "plt.show()"
   ]
  },
  {
   "cell_type": "code",
   "execution_count": null,
   "metadata": {},
   "outputs": [],
   "source": []
  }
 ],
 "metadata": {
  "kernelspec": {
   "display_name": "Python 3",
   "language": "python",
   "name": "python3"
  },
  "language_info": {
   "codemirror_mode": {
    "name": "ipython",
    "version": 3
   },
   "file_extension": ".py",
   "mimetype": "text/x-python",
   "name": "python",
   "nbconvert_exporter": "python",
   "pygments_lexer": "ipython3",
   "version": "3.7.3"
  }
 },
 "nbformat": 4,
 "nbformat_minor": 2
}
